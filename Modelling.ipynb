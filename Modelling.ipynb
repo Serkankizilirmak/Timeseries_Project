{
 "cells": [
  {
   "cell_type": "code",
   "execution_count": 1,
   "outputs": [
    {
     "name": "stderr",
     "output_type": "stream",
     "text": [
      "C:\\Users\\lenovo\\anaconda3\\envs\\SentimentCapstone\\lib\\site-packages\\scipy\\__init__.py:146: UserWarning: A NumPy version >=1.16.5 and <1.23.0 is required for this version of SciPy (detected version 1.23.1\n",
      "  warnings.warn(f\"A NumPy version >={np_minversion} and <{np_maxversion}\"\n"
     ]
    }
   ],
   "source": [
    "#\n",
    "import numpy as np\n",
    "import pandas as pd\n",
    "import matplotlib.pyplot as plt\n",
    "import seaborn as sns\n",
    "from sklearn.svm import SVC\n",
    "from sklearn.metrics import confusion_matrix, classification_report\n",
    "from sklearn.ensemble import RandomForestClassifier\n",
    "from sklearn.model_selection import GridSearchCV, StratifiedKFold\n",
    "from sklearn.tree import DecisionTreeClassifier\n",
    "from sklearn.linear_model import LogisticRegression\n",
    "from sklearn.neighbors import KNeighborsClassifier\n",
    "from sklearn.naive_bayes import GaussianNB\n",
    "from sklearn.model_selection import train_test_split, StratifiedKFold\n",
    "#\n",
    "import sklearn.metrics as metrics\n",
    "#"
   ],
   "metadata": {
    "collapsed": false,
    "pycharm": {
     "name": "#%%\n"
    }
   }
  },
  {
   "cell_type": "code",
   "execution_count": 2,
   "outputs": [],
   "source": [
    "def conf_matrix(cm):\n",
    "\n",
    "    plt.figure(figsize=(9,9))\n",
    "    ax = sns.heatmap(cm,\n",
    "                     annot= True,\n",
    "                     fmt = '.4g',\n",
    "                     cbar=0,\n",
    "                     xticklabels=[1,2,3,4],\n",
    "                     yticklabels=[1,2,3,4])\n",
    "\n",
    "    plt.show()"
   ],
   "metadata": {
    "collapsed": false,
    "pycharm": {
     "name": "#%%\n"
    }
   }
  },
  {
   "cell_type": "code",
   "execution_count": 3,
   "outputs": [],
   "source": [
    "x_train = pd.read_csv(r'C:\\Users\\lenovo\\PycharmProjects\\pythonProject3\\Data\\CEV_contest_train_dataset.csv')\n",
    "y_train = pd.read_csv(r'C:\\Users\\lenovo\\PycharmProjects\\pythonProject3\\Data\\CEV_contest_train_dataset_labels.csv')"
   ],
   "metadata": {
    "collapsed": false,
    "pycharm": {
     "name": "#%%\n"
    }
   }
  },
  {
   "cell_type": "code",
   "execution_count": 4,
   "outputs": [],
   "source": [
    "x_test = pd.read_csv(r'C:\\Users\\lenovo\\PycharmProjects\\pythonProject3\\Data\\CEV_contest_test_dataset.csv')"
   ],
   "metadata": {
    "collapsed": false,
    "pycharm": {
     "name": "#%%\n"
    }
   }
  },
  {
   "cell_type": "code",
   "execution_count": 22,
   "outputs": [],
   "source": [
    "x_test = x_test.drop(['Unnamed: 0'], axis=1)"
   ],
   "metadata": {
    "collapsed": false,
    "pycharm": {
     "name": "#%%\n"
    }
   }
  },
  {
   "cell_type": "markdown",
   "source": [
    "# Y- Label to 4 class and int"
   ],
   "metadata": {
    "collapsed": false,
    "pycharm": {
     "name": "#%% md\n"
    }
   }
  },
  {
   "cell_type": "code",
   "execution_count": 5,
   "outputs": [],
   "source": [
    "x_train = x_train.drop(['Unnamed: 0'], axis=1)\n",
    "y_train = y_train.drop(['Unnamed: 0'], axis=1)"
   ],
   "metadata": {
    "collapsed": false,
    "pycharm": {
     "name": "#%%\n"
    }
   }
  },
  {
   "cell_type": "code",
   "execution_count": 6,
   "outputs": [
    {
     "data": {
      "text/plain": "      CDRGLOB\n0           0\n1          50\n2           0\n3          25\n4          25\n...       ...\n5279       25\n5280        0\n5281        0\n5282       25\n5283       25\n\n[5284 rows x 1 columns]",
      "text/html": "<div>\n<style scoped>\n    .dataframe tbody tr th:only-of-type {\n        vertical-align: middle;\n    }\n\n    .dataframe tbody tr th {\n        vertical-align: top;\n    }\n\n    .dataframe thead th {\n        text-align: right;\n    }\n</style>\n<table border=\"1\" class=\"dataframe\">\n  <thead>\n    <tr style=\"text-align: right;\">\n      <th></th>\n      <th>CDRGLOB</th>\n    </tr>\n  </thead>\n  <tbody>\n    <tr>\n      <th>0</th>\n      <td>0</td>\n    </tr>\n    <tr>\n      <th>1</th>\n      <td>50</td>\n    </tr>\n    <tr>\n      <th>2</th>\n      <td>0</td>\n    </tr>\n    <tr>\n      <th>3</th>\n      <td>25</td>\n    </tr>\n    <tr>\n      <th>4</th>\n      <td>25</td>\n    </tr>\n    <tr>\n      <th>...</th>\n      <td>...</td>\n    </tr>\n    <tr>\n      <th>5279</th>\n      <td>25</td>\n    </tr>\n    <tr>\n      <th>5280</th>\n      <td>0</td>\n    </tr>\n    <tr>\n      <th>5281</th>\n      <td>0</td>\n    </tr>\n    <tr>\n      <th>5282</th>\n      <td>25</td>\n    </tr>\n    <tr>\n      <th>5283</th>\n      <td>25</td>\n    </tr>\n  </tbody>\n</table>\n<p>5284 rows × 1 columns</p>\n</div>"
     },
     "execution_count": 6,
     "metadata": {},
     "output_type": "execute_result"
    }
   ],
   "source": [
    "y_train = (y_train * 100)\n",
    "y_train = y_train.apply(np.int64)\n",
    "y_train"
   ],
   "metadata": {
    "collapsed": false,
    "pycharm": {
     "name": "#%%\n"
    }
   }
  },
  {
   "cell_type": "markdown",
   "source": [
    "# Train- Validation Split"
   ],
   "metadata": {
    "collapsed": false,
    "pycharm": {
     "name": "#%% md\n"
    }
   }
  },
  {
   "cell_type": "code",
   "execution_count": 7,
   "outputs": [],
   "source": [
    "x_train, x_val, y_train, y_val = train_test_split(x_train,\n",
    "                                                    y_train,\n",
    "                                                    test_size=.2,\n",
    "                                                    random_state=42)"
   ],
   "metadata": {
    "collapsed": false,
    "pycharm": {
     "name": "#%%\n"
    }
   }
  },
  {
   "cell_type": "code",
   "execution_count": 8,
   "outputs": [
    {
     "name": "stdout",
     "output_type": "stream",
     "text": [
      "(4227, 29)\n",
      "(4227, 1)\n",
      "(1057, 29)\n",
      "(1057, 1)\n"
     ]
    }
   ],
   "source": [
    "print(x_train.shape)\n",
    "print(y_train.shape)\n",
    "print(x_val.shape)\n",
    "print(y_val.shape)"
   ],
   "metadata": {
    "collapsed": false,
    "pycharm": {
     "name": "#%%\n"
    }
   }
  },
  {
   "cell_type": "markdown",
   "source": [
    "# Modelling"
   ],
   "metadata": {
    "collapsed": false,
    "pycharm": {
     "name": "#%% md\n"
    }
   }
  },
  {
   "cell_type": "markdown",
   "source": [
    "# Logistic Regression"
   ],
   "metadata": {
    "collapsed": false,
    "pycharm": {
     "name": "#%% md\n"
    }
   }
  },
  {
   "cell_type": "code",
   "execution_count": 9,
   "outputs": [
    {
     "name": "stderr",
     "output_type": "stream",
     "text": [
      "C:\\Users\\lenovo\\anaconda3\\envs\\SentimentCapstone\\lib\\site-packages\\sklearn\\utils\\validation.py:1111: DataConversionWarning: A column-vector y was passed when a 1d array was expected. Please change the shape of y to (n_samples, ), for example using ravel().\n",
      "  y = column_or_1d(y, warn=True)\n"
     ]
    },
    {
     "name": "stdout",
     "output_type": "stream",
     "text": [
      "Best: 0.989589 using {'C': 100, 'penalty': 'l2', 'solver': 'newton-cg'}\n",
      "0.989589 (0.005523) with: {'C': 100, 'penalty': 'l2', 'solver': 'newton-cg'}\n",
      "0.920833 (0.015633) with: {'C': 100, 'penalty': 'l2', 'solver': 'lbfgs'}\n",
      "0.936205 (0.011801) with: {'C': 100, 'penalty': 'l2', 'solver': 'liblinear'}\n",
      "0.987461 (0.005962) with: {'C': 10, 'penalty': 'l2', 'solver': 'newton-cg'}\n",
      "0.921614 (0.017593) with: {'C': 10, 'penalty': 'l2', 'solver': 'lbfgs'}\n",
      "0.933681 (0.011184) with: {'C': 10, 'penalty': 'l2', 'solver': 'liblinear'}\n",
      "0.982651 (0.006388) with: {'C': 1.0, 'penalty': 'l2', 'solver': 'newton-cg'}\n",
      "0.917360 (0.020116) with: {'C': 1.0, 'penalty': 'l2', 'solver': 'lbfgs'}\n",
      "0.930132 (0.011122) with: {'C': 1.0, 'penalty': 'l2', 'solver': 'liblinear'}\n",
      "0.963724 (0.008408) with: {'C': 0.1, 'penalty': 'l2', 'solver': 'newton-cg'}\n",
      "0.910422 (0.013023) with: {'C': 0.1, 'penalty': 'l2', 'solver': 'lbfgs'}\n",
      "0.921457 (0.010820) with: {'C': 0.1, 'penalty': 'l2', 'solver': 'liblinear'}\n",
      "0.869564 (0.014122) with: {'C': 0.01, 'penalty': 'l2', 'solver': 'newton-cg'}\n",
      "0.839988 (0.019627) with: {'C': 0.01, 'penalty': 'l2', 'solver': 'lbfgs'}\n",
      "0.803013 (0.016429) with: {'C': 0.01, 'penalty': 'l2', 'solver': 'liblinear'}\n"
     ]
    }
   ],
   "source": [
    "from sklearn.linear_model import LogisticRegression\n",
    "from sklearn.model_selection import RepeatedStratifiedKFold\n",
    "\n",
    "model = LogisticRegression()\n",
    "solvers = ['newton-cg', 'lbfgs', 'liblinear']\n",
    "penalty = ['l2']\n",
    "c_values = [100, 10, 1.0, 0.1, 0.01]\n",
    "# define grid search\n",
    "grid = dict(solver=solvers,penalty=penalty,C=c_values)\n",
    "cv = RepeatedStratifiedKFold(n_splits=10, n_repeats=3, random_state=1)\n",
    "grid_search = GridSearchCV(estimator=model, param_grid=grid, n_jobs=-1, cv=cv, scoring='accuracy',error_score=0)\n",
    "grid_result = grid_search.fit(x_train, y_train)\n",
    "# summarize results\n",
    "print(\"Best: %f using %s\" % (grid_result.best_score_, grid_result.best_params_))\n",
    "means = grid_result.cv_results_['mean_test_score']\n",
    "stds = grid_result.cv_results_['std_test_score']\n",
    "params = grid_result.cv_results_['params']\n",
    "for mean, stdev, param in zip(means, stds, params):\n",
    "    print(\"%f (%f) with: %r\" % (mean, stdev, param))"
   ],
   "metadata": {
    "collapsed": false,
    "pycharm": {
     "name": "#%%\n"
    }
   }
  },
  {
   "cell_type": "code",
   "execution_count": 10,
   "outputs": [
    {
     "name": "stderr",
     "output_type": "stream",
     "text": [
      "C:\\Users\\lenovo\\anaconda3\\envs\\SentimentCapstone\\lib\\site-packages\\sklearn\\utils\\validation.py:1111: DataConversionWarning: A column-vector y was passed when a 1d array was expected. Please change the shape of y to (n_samples, ), for example using ravel().\n",
      "  y = column_or_1d(y, warn=True)\n"
     ]
    },
    {
     "data": {
      "text/plain": "LogisticRegression(C=100, solver='newton-cg')",
      "text/html": "<style>#sk-container-id-1 {color: black;background-color: white;}#sk-container-id-1 pre{padding: 0;}#sk-container-id-1 div.sk-toggleable {background-color: white;}#sk-container-id-1 label.sk-toggleable__label {cursor: pointer;display: block;width: 100%;margin-bottom: 0;padding: 0.3em;box-sizing: border-box;text-align: center;}#sk-container-id-1 label.sk-toggleable__label-arrow:before {content: \"▸\";float: left;margin-right: 0.25em;color: #696969;}#sk-container-id-1 label.sk-toggleable__label-arrow:hover:before {color: black;}#sk-container-id-1 div.sk-estimator:hover label.sk-toggleable__label-arrow:before {color: black;}#sk-container-id-1 div.sk-toggleable__content {max-height: 0;max-width: 0;overflow: hidden;text-align: left;background-color: #f0f8ff;}#sk-container-id-1 div.sk-toggleable__content pre {margin: 0.2em;color: black;border-radius: 0.25em;background-color: #f0f8ff;}#sk-container-id-1 input.sk-toggleable__control:checked~div.sk-toggleable__content {max-height: 200px;max-width: 100%;overflow: auto;}#sk-container-id-1 input.sk-toggleable__control:checked~label.sk-toggleable__label-arrow:before {content: \"▾\";}#sk-container-id-1 div.sk-estimator input.sk-toggleable__control:checked~label.sk-toggleable__label {background-color: #d4ebff;}#sk-container-id-1 div.sk-label input.sk-toggleable__control:checked~label.sk-toggleable__label {background-color: #d4ebff;}#sk-container-id-1 input.sk-hidden--visually {border: 0;clip: rect(1px 1px 1px 1px);clip: rect(1px, 1px, 1px, 1px);height: 1px;margin: -1px;overflow: hidden;padding: 0;position: absolute;width: 1px;}#sk-container-id-1 div.sk-estimator {font-family: monospace;background-color: #f0f8ff;border: 1px dotted black;border-radius: 0.25em;box-sizing: border-box;margin-bottom: 0.5em;}#sk-container-id-1 div.sk-estimator:hover {background-color: #d4ebff;}#sk-container-id-1 div.sk-parallel-item::after {content: \"\";width: 100%;border-bottom: 1px solid gray;flex-grow: 1;}#sk-container-id-1 div.sk-label:hover label.sk-toggleable__label {background-color: #d4ebff;}#sk-container-id-1 div.sk-serial::before {content: \"\";position: absolute;border-left: 1px solid gray;box-sizing: border-box;top: 0;bottom: 0;left: 50%;z-index: 0;}#sk-container-id-1 div.sk-serial {display: flex;flex-direction: column;align-items: center;background-color: white;padding-right: 0.2em;padding-left: 0.2em;position: relative;}#sk-container-id-1 div.sk-item {position: relative;z-index: 1;}#sk-container-id-1 div.sk-parallel {display: flex;align-items: stretch;justify-content: center;background-color: white;position: relative;}#sk-container-id-1 div.sk-item::before, #sk-container-id-1 div.sk-parallel-item::before {content: \"\";position: absolute;border-left: 1px solid gray;box-sizing: border-box;top: 0;bottom: 0;left: 50%;z-index: -1;}#sk-container-id-1 div.sk-parallel-item {display: flex;flex-direction: column;z-index: 1;position: relative;background-color: white;}#sk-container-id-1 div.sk-parallel-item:first-child::after {align-self: flex-end;width: 50%;}#sk-container-id-1 div.sk-parallel-item:last-child::after {align-self: flex-start;width: 50%;}#sk-container-id-1 div.sk-parallel-item:only-child::after {width: 0;}#sk-container-id-1 div.sk-dashed-wrapped {border: 1px dashed gray;margin: 0 0.4em 0.5em 0.4em;box-sizing: border-box;padding-bottom: 0.4em;background-color: white;}#sk-container-id-1 div.sk-label label {font-family: monospace;font-weight: bold;display: inline-block;line-height: 1.2em;}#sk-container-id-1 div.sk-label-container {text-align: center;}#sk-container-id-1 div.sk-container {/* jupyter's `normalize.less` sets `[hidden] { display: none; }` but bootstrap.min.css set `[hidden] { display: none !important; }` so we also need the `!important` here to be able to override the default hidden behavior on the sphinx rendered scikit-learn.org. See: https://github.com/scikit-learn/scikit-learn/issues/21755 */display: inline-block !important;position: relative;}#sk-container-id-1 div.sk-text-repr-fallback {display: none;}</style><div id=\"sk-container-id-1\" class=\"sk-top-container\"><div class=\"sk-text-repr-fallback\"><pre>LogisticRegression(C=100, solver=&#x27;newton-cg&#x27;)</pre><b>In a Jupyter environment, please rerun this cell to show the HTML representation or trust the notebook. <br />On GitHub, the HTML representation is unable to render, please try loading this page with nbviewer.org.</b></div><div class=\"sk-container\" hidden><div class=\"sk-item\"><div class=\"sk-estimator sk-toggleable\"><input class=\"sk-toggleable__control sk-hidden--visually\" id=\"sk-estimator-id-1\" type=\"checkbox\" checked><label for=\"sk-estimator-id-1\" class=\"sk-toggleable__label sk-toggleable__label-arrow\">LogisticRegression</label><div class=\"sk-toggleable__content\"><pre>LogisticRegression(C=100, solver=&#x27;newton-cg&#x27;)</pre></div></div></div></div></div>"
     },
     "execution_count": 10,
     "metadata": {},
     "output_type": "execute_result"
    }
   ],
   "source": [
    "LG_classifier = LogisticRegression(C=100, penalty='l2',solver='newton-cg')\n",
    "LG_classifier.fit(x_train, y_train)"
   ],
   "metadata": {
    "collapsed": false,
    "pycharm": {
     "name": "#%%\n"
    }
   }
  },
  {
   "cell_type": "code",
   "execution_count": 11,
   "outputs": [
    {
     "data": {
      "text/plain": "<Figure size 648x648 with 1 Axes>",
      "image/png": "[encoded data removed]"
     },
     "metadata": {
      "needs_background": "light"
     },
     "output_type": "display_data"
    }
   ],
   "source": [
    "from sklearn.metrics import classification_report, confusion_matrix\n",
    "y_predict_train = LG_classifier.predict(x_train)\n",
    "y_predict_train\n",
    "cm = confusion_matrix(y_train, y_predict_train)\n",
    "conf_matrix(cm)"
   ],
   "metadata": {
    "collapsed": false,
    "pycharm": {
     "name": "#%%\n"
    }
   }
  },
  {
   "cell_type": "code",
   "execution_count": 12,
   "outputs": [
    {
     "data": {
      "text/plain": "<Figure size 648x648 with 1 Axes>",
      "image/png": "[encoded data removed]"
     },
     "metadata": {
      "needs_background": "light"
     },
     "output_type": "display_data"
    }
   ],
   "source": [
    "# Predicting the Val set results\n",
    "y_predict_val = LG_classifier.predict(x_val)\n",
    "cm = confusion_matrix(y_val, y_predict_val)\n",
    "conf_matrix(cm)"
   ],
   "metadata": {
    "collapsed": false,
    "pycharm": {
     "name": "#%%\n"
    }
   }
  },
  {
   "cell_type": "code",
   "execution_count": 13,
   "outputs": [
    {
     "name": "stdout",
     "output_type": "stream",
     "text": [
      "              precision    recall  f1-score   support\n",
      "\n",
      "           0       1.00      1.00      1.00       530\n",
      "          25       0.99      0.99      0.99       407\n",
      "          50       0.93      0.96      0.94        96\n",
      "         100       1.00      0.88      0.93        24\n",
      "\n",
      "    accuracy                           0.99      1057\n",
      "   macro avg       0.98      0.96      0.97      1057\n",
      "weighted avg       0.99      0.99      0.99      1057\n",
      "\n"
     ]
    }
   ],
   "source": [
    "print(classification_report(y_val, y_predict_val))"
   ],
   "metadata": {
    "collapsed": false,
    "pycharm": {
     "name": "#%%\n"
    }
   }
  },
  {
   "cell_type": "code",
   "execution_count": 14,
   "outputs": [
    {
     "data": {
      "text/plain": "            Model Name  Train Accuracy  Validation Accuracy  \\\n0  Logistic Regression        0.995269             0.988647   \n\n   Accuracy Difference  \n0             0.006621  ",
      "text/html": "<div>\n<style scoped>\n    .dataframe tbody tr th:only-of-type {\n        vertical-align: middle;\n    }\n\n    .dataframe tbody tr th {\n        vertical-align: top;\n    }\n\n    .dataframe thead th {\n        text-align: right;\n    }\n</style>\n<table border=\"1\" class=\"dataframe\">\n  <thead>\n    <tr style=\"text-align: right;\">\n      <th></th>\n      <th>Model Name</th>\n      <th>Train Accuracy</th>\n      <th>Validation Accuracy</th>\n      <th>Accuracy Difference</th>\n    </tr>\n  </thead>\n  <tbody>\n    <tr>\n      <th>0</th>\n      <td>Logistic Regression</td>\n      <td>0.995269</td>\n      <td>0.988647</td>\n      <td>0.006621</td>\n    </tr>\n  </tbody>\n</table>\n</div>"
     },
     "execution_count": 14,
     "metadata": {},
     "output_type": "execute_result"
    }
   ],
   "source": [
    "a = 'Logistic Regression'\n",
    "d = {'Model Name': [a],\n",
    "             'Train Accuracy': [metrics.accuracy_score(y_train, y_predict_train)],\n",
    "             'Validation Accuracy': [metrics.accuracy_score(y_val, y_predict_val)],\n",
    "             'Accuracy Difference':[metrics.accuracy_score(y_train, y_predict_train)-metrics.accuracy_score(y_val, y_predict_val)]}\n",
    "LG_scores_table = pd.DataFrame(data=d)\n",
    "LG_scores_table"
   ],
   "metadata": {
    "collapsed": false,
    "pycharm": {
     "name": "#%%\n"
    }
   }
  },
  {
   "cell_type": "code",
   "execution_count": 19,
   "outputs": [
    {
     "data": {
      "text/plain": "array([[<AxesSubplot:title={'center':'0'}>]], dtype=object)"
     },
     "execution_count": 19,
     "metadata": {},
     "output_type": "execute_result"
    },
    {
     "data": {
      "text/plain": "<Figure size 432x288 with 1 Axes>",
      "image/png": "[encoded data removed]"
     },
     "metadata": {
      "needs_background": "light"
     },
     "output_type": "display_data"
    }
   ],
   "source": [
    "a = pd.DataFrame(LG_classifier.predict(x_val))\n",
    "a.hist()"
   ],
   "metadata": {
    "collapsed": false,
    "pycharm": {
     "name": "#%%\n"
    }
   }
  },
  {
   "cell_type": "code",
   "execution_count": 20,
   "outputs": [
    {
     "data": {
      "text/plain": "array([[<AxesSubplot:title={'center':'CDRGLOB'}>]], dtype=object)"
     },
     "execution_count": 20,
     "metadata": {},
     "output_type": "execute_result"
    },
    {
     "data": {
      "text/plain": "<Figure size 432x288 with 1 Axes>",
      "image/png": "[encoded data removed]"
     },
     "metadata": {
      "needs_background": "light"
     },
     "output_type": "display_data"
    }
   ],
   "source": [
    "y_val.hist()"
   ],
   "metadata": {
    "collapsed": false,
    "pycharm": {
     "name": "#%%\n"
    }
   }
  },
  {
   "cell_type": "code",
   "execution_count": 23,
   "outputs": [
    {
     "data": {
      "text/plain": "array([ 25,  25,   0,   0,  25,   0,  25,   0,  25,  25,  50,   0,  25,\n        25,   0,  25,  25,  25,  25,  25,   0,  25,   0,   0,   0,  50,\n        25,  25,   0, 100,   0,  25,  25,   0,  25,  25, 100,  25,  25,\n         0,  25,   0,   0,  25,  25,  25,   0,  25,   0,  25,   0,   0,\n         0,  25,   0,  50,   0, 100,  25,  25,   0,  25,   0,   0,  50,\n         0,   0,  50,   0,  50,   0,  50,   0,  50,  50,  25,  25,  25,\n         0,  25,   0,  25,   0,  25,   0,   0,  25,  25,  50,  25,   0,\n        25,  25, 100,  25,   0,  25,  25,  25,  50,  25,   0,   0,   0,\n         0,  50,   0,  25,  25,   0,  25,   0,  25,   0,  25,   0,  25,\n         0,   0,   0,   0,  25,   0,   0,  25,  25,   0,   0,   0,  25,\n         0,  25,  25,   0,   0,  25,   0,  50,  25,  25,   0,  25,   0,\n         0,  50,  25,   0,  25,  25,   0,  25,  25,  25,  50,  25,   0,\n         0,   0,  25,   0,  50,   0,  25,   0,  25,   0,   0,   0,  25,\n         0,   0,  25,   0,   0, 100,   0,   0,   0,  50,   0,  25,  25,\n         0,  25,  25,  50,   0,  25,   0,   0,   0,   0,   0,   0,  50,\n         0,   0,   0,   0,  50,   0,   0, 100,   0, 100,  25,   0,  25,\n        25,  25,  25,   0,   0,  50,   0,  25,  25,   0,   0,  25,  50,\n        25,  25,   0,   0,  25, 100,  25,   0, 100,  50,  25,  25,  25,\n        25,  25,   0,   0,  25,  25,  50,  25,   0,   0,   0,   0,   0,\n         0,  25,  25,   0,   0,  25,  25,  25,   0,   0,  25,   0,  25,\n         0,  25,  25,   0,   0,   0,   0,   0,  25,   0,   0,  50,  25,\n         0,   0,   0,  25,   0,   0,  50,   0,  25,  25,   0,   0,   0,\n         0,  25,   0,   0,   0,  25,   0,   0,   0,   0,   0,   0,   0,\n         0,  50,  25,  25,  25,  25,  25,  50,  25,  50,   0,   0, 100,\n         0,   0, 100,   0,  50,  50,   0,   0,   0,   0,  25,  50,  25,\n        25,   0,  25,  25,   0,  25,  25,   0,   0,  25,  25,   0,   0,\n         0,  25,   0, 100,  25,  25,   0,  25,   0,   0,  25,   0,   0,\n        50,   0,  25,   0,  25,   0,   0,  25,   0,  25,   0,   0,  25,\n         0,   0,   0,  50,   0,   0,  25,   0,  25,  25,  25,  25,   0,\n        50,  50,   0,  50,   0,   0,  50,  50,  25,   0,  25,  25,  25,\n         0,   0,  25,   0,   0,  25,   0,  25,   0,   0,   0,   0,  25,\n         0,   0,   0,  50,  25,  25,   0,  50,   0,  50,  25,   0,  50,\n         0,   0,  25,   0,  50,  25,  50,  25,  25,   0,  25,  25,   0,\n         0,   0,  50,   0,   0,  25,   0,  25,   0,  50,  25,  25,   0,\n         0,  25,  50,  25,  25,  25,  25,  50,  50,   0,  25,  25,   0,\n         0,  50,  25,  25, 100,   0,   0, 100,   0,  25,  50,  25,  50,\n        50,  25,  25,  50,   0,   0,   0,  25,  25,   0,   0,  25,   0,\n         0,  25,   0,  25,  50,   0,   0,  25,  25,   0,  25,  25,   0,\n         0,  25,  25,  25,   0,  25,  25,   0,   0,   0,  25,   0,   0,\n         0,  25,  25,  25,  25,   0,   0,   0,   0,   0,   0,   0,   0,\n        25,   0,  25,   0,  25,   0,   0,  25,   0,   0,   0,   0,   0,\n       100,   0,   0,   0,   0,   0,   0,   0,   0,   0,  25,   0,  25,\n         0,  25,   0,   0,   0,  25,  25,  25,   0,  25,  25,  25,   0,\n         0,  25,  25,  25,   0,  25,  50,  50,   0,   0,  25,  25,  25,\n         0,   0,  25, 100,   0,   0,  25,  50,  25,  25,  50,   0,   0,\n         0,   0,   0], dtype=int64)"
     },
     "execution_count": 23,
     "metadata": {},
     "output_type": "execute_result"
    }
   ],
   "source": [
    "LG_classifier.predict(x_test)"
   ],
   "metadata": {
    "collapsed": false,
    "pycharm": {
     "name": "#%%\n"
    }
   }
  },
  {
   "cell_type": "markdown",
   "source": [
    "##### Devam"
   ],
   "metadata": {
    "collapsed": false,
    "pycharm": {
     "name": "#%% md\n"
    }
   }
  }
 ],
 "metadata": {
  "kernelspec": {
   "display_name": "Python 3",
   "language": "python",
   "name": "python3"
  },
  "language_info": {
   "codemirror_mode": {
    "name": "ipython",
    "version": 2
   },
   "file_extension": ".py",
   "mimetype": "text/x-python",
   "name": "python",
   "nbconvert_exporter": "python",
   "pygments_lexer": "ipython2",
   "version": "2.7.6"
  }
 },
 "nbformat": 4,
 "nbformat_minor": 0
}