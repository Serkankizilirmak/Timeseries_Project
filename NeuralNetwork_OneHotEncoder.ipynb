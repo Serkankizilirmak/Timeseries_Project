{
 "cells": [
  {
   "cell_type": "code",
   "execution_count": 492,
   "metadata": {
    "collapsed": true
   },
   "outputs": [],
   "source": [
    "import pandas as pd\n",
    "import matplotlib.pyplot as plt\n",
    "import numpy as np\n",
    "import seaborn as sns"
   ]
  },
  {
   "cell_type": "code",
   "execution_count": 493,
   "outputs": [],
   "source": [
    "x_train = pd.read_csv(r'C:\\Users\\lenovo\\PycharmProjects\\pythonProject3\\Data\\CEV_contest_train_dataset.csv')\n",
    "y_train = pd.read_csv(r'C:\\Users\\lenovo\\PycharmProjects\\pythonProject3\\Data\\CEV_contest_train_dataset_labels.csv')"
   ],
   "metadata": {
    "collapsed": false,
    "pycharm": {
     "name": "#%%\n"
    }
   }
  },
  {
   "cell_type": "code",
   "execution_count": 494,
   "outputs": [
    {
     "name": "stdout",
     "output_type": "stream",
     "text": [
      "Unnamed: 0    0\n",
      "SEX           0\n",
      "NACCAGEB      0\n",
      "NACCMOCA      0\n",
      "NACCFAM       0\n",
      "EDUC          0\n",
      "NACCGDS       0\n",
      "NACCBMI       0\n",
      "SMOKYRS       0\n",
      "NACCNE4S      0\n",
      "INDEPEND      0\n",
      "res1          0\n",
      "res2          0\n",
      "res3          0\n",
      "res4          0\n",
      "ALCOHOL0      0\n",
      "ALCOHOL1      0\n",
      "ALCOHOL2      0\n",
      "APOE1         0\n",
      "APOE2         0\n",
      "APOE3         0\n",
      "APOE4         0\n",
      "APOE5         0\n",
      "APOE6         0\n",
      "MEMORY        0\n",
      "ORIENT        0\n",
      "JUDGMENT      0\n",
      "COMMUN        0\n",
      "HOMEHOBB      0\n",
      "PERSCARE      0\n",
      "dtype: int64\n",
      "Unnamed: 0    0\n",
      "CDRGLOB       0\n",
      "dtype: int64\n"
     ]
    }
   ],
   "source": [
    "print(x_train.isna().sum())\n",
    "print(y_train.isna().sum())"
   ],
   "metadata": {
    "collapsed": false,
    "pycharm": {
     "name": "#%%\n"
    }
   }
  },
  {
   "cell_type": "markdown",
   "source": [
    "# One Hot Encoder"
   ],
   "metadata": {
    "collapsed": false,
    "pycharm": {
     "name": "#%% md\n"
    }
   }
  },
  {
   "cell_type": "code",
   "execution_count": 495,
   "outputs": [],
   "source": [
    "from sklearn.preprocessing import OneHotEncoder\n",
    "\n",
    "enc = OneHotEncoder(handle_unknown='ignore')\n",
    "\n",
    "enc_df = pd.DataFrame(enc.fit_transform(y_train[['CDRGLOB']]).toarray())\n",
    "y_train = y_train.join(enc_df)"
   ],
   "metadata": {
    "collapsed": false,
    "pycharm": {
     "name": "#%%\n"
    }
   }
  },
  {
   "cell_type": "code",
   "execution_count": 496,
   "outputs": [],
   "source": [
    "x_train = x_train.drop(['Unnamed: 0'], axis=1)\n",
    "y_train = y_train.drop(['Unnamed: 0'], axis=1)"
   ],
   "metadata": {
    "collapsed": false,
    "pycharm": {
     "name": "#%%\n"
    }
   }
  },
  {
   "cell_type": "code",
   "execution_count": 497,
   "outputs": [
    {
     "data": {
      "text/plain": "      CDRGLOB    0    1    2    3\n0        0.00  1.0  0.0  0.0  0.0\n1        0.50  0.0  0.0  1.0  0.0\n2        0.00  1.0  0.0  0.0  0.0\n3        0.25  0.0  1.0  0.0  0.0\n4        0.25  0.0  1.0  0.0  0.0\n...       ...  ...  ...  ...  ...\n5279     0.25  0.0  1.0  0.0  0.0\n5280     0.00  1.0  0.0  0.0  0.0\n5281     0.00  1.0  0.0  0.0  0.0\n5282     0.25  0.0  1.0  0.0  0.0\n5283     0.25  0.0  1.0  0.0  0.0\n\n[5284 rows x 5 columns]",
      "text/html": "<div>\n<style scoped>\n    .dataframe tbody tr th:only-of-type {\n        vertical-align: middle;\n    }\n\n    .dataframe tbody tr th {\n        vertical-align: top;\n    }\n\n    .dataframe thead th {\n        text-align: right;\n    }\n</style>\n<table border=\"1\" class=\"dataframe\">\n  <thead>\n    <tr style=\"text-align: right;\">\n      <th></th>\n      <th>CDRGLOB</th>\n      <th>0</th>\n      <th>1</th>\n      <th>2</th>\n      <th>3</th>\n    </tr>\n  </thead>\n  <tbody>\n    <tr>\n      <th>0</th>\n      <td>0.00</td>\n      <td>1.0</td>\n      <td>0.0</td>\n      <td>0.0</td>\n      <td>0.0</td>\n    </tr>\n    <tr>\n      <th>1</th>\n      <td>0.50</td>\n      <td>0.0</td>\n      <td>0.0</td>\n      <td>1.0</td>\n      <td>0.0</td>\n    </tr>\n    <tr>\n      <th>2</th>\n      <td>0.00</td>\n      <td>1.0</td>\n      <td>0.0</td>\n      <td>0.0</td>\n      <td>0.0</td>\n    </tr>\n    <tr>\n      <th>3</th>\n      <td>0.25</td>\n      <td>0.0</td>\n      <td>1.0</td>\n      <td>0.0</td>\n      <td>0.0</td>\n    </tr>\n    <tr>\n      <th>4</th>\n      <td>0.25</td>\n      <td>0.0</td>\n      <td>1.0</td>\n      <td>0.0</td>\n      <td>0.0</td>\n    </tr>\n    <tr>\n      <th>...</th>\n      <td>...</td>\n      <td>...</td>\n      <td>...</td>\n      <td>...</td>\n      <td>...</td>\n    </tr>\n    <tr>\n      <th>5279</th>\n      <td>0.25</td>\n      <td>0.0</td>\n      <td>1.0</td>\n      <td>0.0</td>\n      <td>0.0</td>\n    </tr>\n    <tr>\n      <th>5280</th>\n      <td>0.00</td>\n      <td>1.0</td>\n      <td>0.0</td>\n      <td>0.0</td>\n      <td>0.0</td>\n    </tr>\n    <tr>\n      <th>5281</th>\n      <td>0.00</td>\n      <td>1.0</td>\n      <td>0.0</td>\n      <td>0.0</td>\n      <td>0.0</td>\n    </tr>\n    <tr>\n      <th>5282</th>\n      <td>0.25</td>\n      <td>0.0</td>\n      <td>1.0</td>\n      <td>0.0</td>\n      <td>0.0</td>\n    </tr>\n    <tr>\n      <th>5283</th>\n      <td>0.25</td>\n      <td>0.0</td>\n      <td>1.0</td>\n      <td>0.0</td>\n      <td>0.0</td>\n    </tr>\n  </tbody>\n</table>\n<p>5284 rows × 5 columns</p>\n</div>"
     },
     "execution_count": 497,
     "metadata": {},
     "output_type": "execute_result"
    }
   ],
   "source": [
    "y_train"
   ],
   "metadata": {
    "collapsed": false,
    "pycharm": {
     "name": "#%%\n"
    }
   }
  },
  {
   "cell_type": "code",
   "execution_count": 498,
   "outputs": [],
   "source": [
    "#y_train = y_train.set_index(['Unnamed: 0'])\n",
    "#x_train = x_train.set_index(['Unnamed: 0'])"
   ],
   "metadata": {
    "collapsed": false,
    "pycharm": {
     "name": "#%%\n"
    }
   }
  },
  {
   "cell_type": "markdown",
   "source": [
    "# Train-Validation Split"
   ],
   "metadata": {
    "collapsed": false,
    "pycharm": {
     "name": "#%% md\n"
    }
   }
  },
  {
   "cell_type": "code",
   "execution_count": 499,
   "outputs": [
    {
     "data": {
      "text/plain": "Index(['CDRGLOB', 0, 1, 2, 3], dtype='object')"
     },
     "execution_count": 499,
     "metadata": {},
     "output_type": "execute_result"
    }
   ],
   "source": [
    "y_train.columns"
   ],
   "metadata": {
    "collapsed": false,
    "pycharm": {
     "name": "#%%\n"
    }
   }
  },
  {
   "cell_type": "code",
   "execution_count": 500,
   "outputs": [],
   "source": [
    "x_train, x_val, y_train, y_val = train_test_split(x_train,\n",
    "                                                    y_train[[0,1,2,3]],\n",
    "                                                    test_size=.2,\n",
    "                                                    random_state=42)"
   ],
   "metadata": {
    "collapsed": false,
    "pycharm": {
     "name": "#%%\n"
    }
   }
  },
  {
   "cell_type": "code",
   "execution_count": 501,
   "outputs": [
    {
     "name": "stdout",
     "output_type": "stream",
     "text": [
      "(4227, 29)\n",
      "(4227, 4)\n",
      "(1057, 29)\n",
      "(1057, 4)\n"
     ]
    }
   ],
   "source": [
    "print(x_train.shape)\n",
    "print(y_train.shape)\n",
    "print(x_val.shape)\n",
    "print(y_val.shape)"
   ],
   "metadata": {
    "collapsed": false,
    "pycharm": {
     "name": "#%%\n"
    }
   }
  },
  {
   "cell_type": "markdown",
   "source": [
    "# Deep Learning Model"
   ],
   "metadata": {
    "collapsed": false,
    "pycharm": {
     "name": "#%% md\n"
    }
   }
  },
  {
   "cell_type": "code",
   "execution_count": 502,
   "outputs": [
    {
     "name": "stdout",
     "output_type": "stream",
     "text": [
      "Epoch 1/30\n",
      "9/9 [==============================] - 1s 17ms/step - loss: 1.4270 - accuracy: 0.4892 - val_loss: 0.5826 - val_accuracy: 0.5080\n",
      "Epoch 2/30\n",
      "9/9 [==============================] - 0s 4ms/step - loss: 0.5605 - accuracy: 0.4996 - val_loss: 0.4978 - val_accuracy: 0.5336\n",
      "Epoch 3/30\n",
      "9/9 [==============================] - 0s 4ms/step - loss: 0.4710 - accuracy: 0.5309 - val_loss: 0.4283 - val_accuracy: 0.5743\n",
      "Epoch 4/30\n",
      "9/9 [==============================] - 0s 4ms/step - loss: 0.4304 - accuracy: 0.5735 - val_loss: 0.4044 - val_accuracy: 0.5799\n",
      "Epoch 5/30\n",
      "9/9 [==============================] - 0s 4ms/step - loss: 0.4119 - accuracy: 0.5813 - val_loss: 0.3823 - val_accuracy: 0.6291\n",
      "Epoch 6/30\n",
      "9/9 [==============================] - 0s 4ms/step - loss: 0.3863 - accuracy: 0.6272 - val_loss: 0.3788 - val_accuracy: 0.6320\n",
      "Epoch 7/30\n",
      "9/9 [==============================] - 0s 4ms/step - loss: 0.3803 - accuracy: 0.6399 - val_loss: 0.3685 - val_accuracy: 0.6452\n",
      "Epoch 8/30\n",
      "9/9 [==============================] - 0s 4ms/step - loss: 0.3673 - accuracy: 0.6406 - val_loss: 0.3796 - val_accuracy: 0.6045\n",
      "Epoch 9/30\n",
      "9/9 [==============================] - 0s 4ms/step - loss: 0.3572 - accuracy: 0.6423 - val_loss: 0.3469 - val_accuracy: 0.6651\n",
      "Epoch 10/30\n",
      "9/9 [==============================] - 0s 4ms/step - loss: 0.3643 - accuracy: 0.6714 - val_loss: 0.3403 - val_accuracy: 0.6963\n",
      "Epoch 11/30\n",
      "9/9 [==============================] - 0s 4ms/step - loss: 0.3509 - accuracy: 0.6447 - val_loss: 0.3490 - val_accuracy: 0.6556\n",
      "Epoch 12/30\n",
      "9/9 [==============================] - 0s 4ms/step - loss: 0.3348 - accuracy: 0.6849 - val_loss: 0.3435 - val_accuracy: 0.6840\n",
      "Epoch 13/30\n",
      "9/9 [==============================] - 0s 4ms/step - loss: 0.3452 - accuracy: 0.6802 - val_loss: 0.3270 - val_accuracy: 0.6774\n",
      "Epoch 14/30\n",
      "9/9 [==============================] - 0s 4ms/step - loss: 0.3361 - accuracy: 0.6877 - val_loss: 0.3411 - val_accuracy: 0.6897\n",
      "Epoch 15/30\n",
      "9/9 [==============================] - 0s 4ms/step - loss: 0.3288 - accuracy: 0.7048 - val_loss: 0.3362 - val_accuracy: 0.6585\n",
      "Epoch 16/30\n",
      "9/9 [==============================] - 0s 4ms/step - loss: 0.3304 - accuracy: 0.6813 - val_loss: 0.3169 - val_accuracy: 0.7209\n",
      "Epoch 17/30\n",
      "9/9 [==============================] - 0s 4ms/step - loss: 0.3208 - accuracy: 0.7040 - val_loss: 0.3378 - val_accuracy: 0.7294\n",
      "Epoch 18/30\n",
      "9/9 [==============================] - 0s 4ms/step - loss: 0.3265 - accuracy: 0.7213 - val_loss: 0.3184 - val_accuracy: 0.7020\n",
      "Epoch 19/30\n",
      "9/9 [==============================] - 0s 4ms/step - loss: 0.3101 - accuracy: 0.7327 - val_loss: 0.3651 - val_accuracy: 0.6329\n",
      "Epoch 20/30\n",
      "9/9 [==============================] - 0s 4ms/step - loss: 0.3182 - accuracy: 0.7216 - val_loss: 0.3431 - val_accuracy: 0.6906\n",
      "Epoch 21/30\n",
      "9/9 [==============================] - 0s 4ms/step - loss: 0.3166 - accuracy: 0.7059 - val_loss: 0.3104 - val_accuracy: 0.6973\n",
      "Epoch 22/30\n",
      "9/9 [==============================] - 0s 4ms/step - loss: 0.3055 - accuracy: 0.7410 - val_loss: 0.3443 - val_accuracy: 0.6831\n",
      "Epoch 23/30\n",
      "9/9 [==============================] - 0s 4ms/step - loss: 0.3139 - accuracy: 0.7204 - val_loss: 0.2996 - val_accuracy: 0.7323\n",
      "Epoch 24/30\n",
      "9/9 [==============================] - 0s 4ms/step - loss: 0.3058 - accuracy: 0.7424 - val_loss: 0.3036 - val_accuracy: 0.7483\n",
      "Epoch 25/30\n",
      "9/9 [==============================] - 0s 4ms/step - loss: 0.2987 - accuracy: 0.7502 - val_loss: 0.3071 - val_accuracy: 0.7285\n",
      "Epoch 26/30\n",
      "9/9 [==============================] - 0s 4ms/step - loss: 0.3001 - accuracy: 0.7499 - val_loss: 0.3292 - val_accuracy: 0.6698\n",
      "Epoch 27/30\n",
      "9/9 [==============================] - 0s 4ms/step - loss: 0.3019 - accuracy: 0.7402 - val_loss: 0.2935 - val_accuracy: 0.7654\n",
      "Epoch 28/30\n",
      "9/9 [==============================] - 0s 4ms/step - loss: 0.2949 - accuracy: 0.7656 - val_loss: 0.3105 - val_accuracy: 0.7342\n",
      "Epoch 29/30\n",
      "9/9 [==============================] - 0s 4ms/step - loss: 0.2875 - accuracy: 0.7601 - val_loss: 0.2934 - val_accuracy: 0.7493\n",
      "Epoch 30/30\n",
      "9/9 [==============================] - 0s 4ms/step - loss: 0.3003 - accuracy: 0.7414 - val_loss: 0.2942 - val_accuracy: 0.7692\n"
     ]
    }
   ],
   "source": [
    "##\n",
    "from tensorflow import keras\n",
    "from tensorflow.keras import layers\n",
    "from tensorflow.python.keras import Sequential\n",
    "from tensorflow.python.keras.layers import Dense, Embedding, GlobalAveragePooling1D\n",
    "##\n",
    "from tensorflow import keras\n",
    "from tensorflow.keras import layers\n",
    "\n",
    "model = keras.Sequential([\n",
    "    layers.Dense(64, activation=\"relu\"),\n",
    "    layers.Dense(4, activation=\"sigmoid\")\n",
    "])\n",
    "##\n",
    "model.compile(optimizer=\"rmsprop\",\n",
    "              loss=\"binary_crossentropy\",\n",
    "              metrics=[\"accuracy\"])\n",
    "##\n",
    "history = model.fit(x_train,\n",
    "                    y_train,\n",
    "                    epochs=30,\n",
    "                    batch_size=512,\n",
    "                    validation_data=(x_val, y_val),)\n",
    "##"
   ],
   "metadata": {
    "collapsed": false,
    "pycharm": {
     "name": "#%%\n"
    }
   }
  },
  {
   "cell_type": "code",
   "execution_count": 503,
   "outputs": [
    {
     "data": {
      "text/plain": "<Figure size 432x288 with 1 Axes>",
      "image/png": "[encoded data removed]"
     },
     "metadata": {
      "needs_background": "light"
     },
     "output_type": "display_data"
    }
   ],
   "source": [
    "history_dict = history.history\n",
    "history_dict.keys()\n",
    "\n",
    "import matplotlib.pyplot as plt\n",
    "history_dict = history.history\n",
    "\n",
    "loss_values = history_dict[\"loss\"]\n",
    "val_loss_values = history_dict[\"val_loss\"]\n",
    "epochs = range(1, len(loss_values) + 1)\n",
    "plt.plot(epochs, loss_values, \"bo\", label=\"Training loss\")\n",
    "plt.plot(epochs, val_loss_values, \"b\", label=\"Validation loss\")\n",
    "plt.title(\"Training and validation loss\")\n",
    "plt.xlabel(\"Epochs\")\n",
    "plt.ylabel(\"Loss\")\n",
    "plt.legend()\n",
    "plt.show()"
   ],
   "metadata": {
    "collapsed": false,
    "pycharm": {
     "name": "#%%\n"
    }
   }
  },
  {
   "cell_type": "code",
   "execution_count": 504,
   "outputs": [
    {
     "data": {
      "text/plain": "<Figure size 432x288 with 1 Axes>",
      "image/png": "[encoded data removed]"
     },
     "metadata": {
      "needs_background": "light"
     },
     "output_type": "display_data"
    }
   ],
   "source": [
    "plt.clf()\n",
    "acc = history.history[\"accuracy\"]\n",
    "val_acc = history.history[\"val_accuracy\"]\n",
    "plt.plot(epochs, acc, \"bo\", label=\"Training accuracy\")\n",
    "plt.plot(epochs, val_acc, \"b\", label=\"Validation accuracy\")\n",
    "plt.title(\"Training and validation accuracy\")\n",
    "plt.xlabel(\"Epochs\")\n",
    "plt.ylabel(\"Accuracy\")\n",
    "plt.legend()\n",
    "plt.show()"
   ],
   "metadata": {
    "collapsed": false,
    "pycharm": {
     "name": "#%%\n"
    }
   }
  },
  {
   "cell_type": "markdown",
   "source": [
    "# Confusion Matrix"
   ],
   "metadata": {
    "collapsed": false,
    "pycharm": {
     "name": "#%% md\n"
    }
   }
  },
  {
   "cell_type": "code",
   "execution_count": 505,
   "outputs": [
    {
     "name": "stdout",
     "output_type": "stream",
     "text": [
      "34/34 [==============================] - 0s 737us/step\n"
     ]
    },
    {
     "data": {
      "text/plain": "        0    1    2    3  score\n2585  0.0  1.0  0.0  0.0      1\n3158  1.0  0.0  0.0  0.0      0\n290   1.0  0.0  0.0  0.0      0\n751   1.0  0.0  0.0  0.0      0\n4504  1.0  0.0  0.0  0.0      0\n...   ...  ...  ...  ...    ...\n602   0.0  0.0  1.0  0.0      2\n4408  0.0  1.0  0.0  0.0      1\n3243  0.0  1.0  0.0  0.0      1\n1467  0.0  1.0  0.0  0.0      1\n2416  0.0  1.0  0.0  0.0      1\n\n[1057 rows x 5 columns]",
      "text/html": "<div>\n<style scoped>\n    .dataframe tbody tr th:only-of-type {\n        vertical-align: middle;\n    }\n\n    .dataframe tbody tr th {\n        vertical-align: top;\n    }\n\n    .dataframe thead th {\n        text-align: right;\n    }\n</style>\n<table border=\"1\" class=\"dataframe\">\n  <thead>\n    <tr style=\"text-align: right;\">\n      <th></th>\n      <th>0</th>\n      <th>1</th>\n      <th>2</th>\n      <th>3</th>\n      <th>score</th>\n    </tr>\n  </thead>\n  <tbody>\n    <tr>\n      <th>2585</th>\n      <td>0.0</td>\n      <td>1.0</td>\n      <td>0.0</td>\n      <td>0.0</td>\n      <td>1</td>\n    </tr>\n    <tr>\n      <th>3158</th>\n      <td>1.0</td>\n      <td>0.0</td>\n      <td>0.0</td>\n      <td>0.0</td>\n      <td>0</td>\n    </tr>\n    <tr>\n      <th>290</th>\n      <td>1.0</td>\n      <td>0.0</td>\n      <td>0.0</td>\n      <td>0.0</td>\n      <td>0</td>\n    </tr>\n    <tr>\n      <th>751</th>\n      <td>1.0</td>\n      <td>0.0</td>\n      <td>0.0</td>\n      <td>0.0</td>\n      <td>0</td>\n    </tr>\n    <tr>\n      <th>4504</th>\n      <td>1.0</td>\n      <td>0.0</td>\n      <td>0.0</td>\n      <td>0.0</td>\n      <td>0</td>\n    </tr>\n    <tr>\n      <th>...</th>\n      <td>...</td>\n      <td>...</td>\n      <td>...</td>\n      <td>...</td>\n      <td>...</td>\n    </tr>\n    <tr>\n      <th>602</th>\n      <td>0.0</td>\n      <td>0.0</td>\n      <td>1.0</td>\n      <td>0.0</td>\n      <td>2</td>\n    </tr>\n    <tr>\n      <th>4408</th>\n      <td>0.0</td>\n      <td>1.0</td>\n      <td>0.0</td>\n      <td>0.0</td>\n      <td>1</td>\n    </tr>\n    <tr>\n      <th>3243</th>\n      <td>0.0</td>\n      <td>1.0</td>\n      <td>0.0</td>\n      <td>0.0</td>\n      <td>1</td>\n    </tr>\n    <tr>\n      <th>1467</th>\n      <td>0.0</td>\n      <td>1.0</td>\n      <td>0.0</td>\n      <td>0.0</td>\n      <td>1</td>\n    </tr>\n    <tr>\n      <th>2416</th>\n      <td>0.0</td>\n      <td>1.0</td>\n      <td>0.0</td>\n      <td>0.0</td>\n      <td>1</td>\n    </tr>\n  </tbody>\n</table>\n<p>1057 rows × 5 columns</p>\n</div>"
     },
     "execution_count": 505,
     "metadata": {},
     "output_type": "execute_result"
    }
   ],
   "source": [
    "def add_one_argmax_score(x):\n",
    "\n",
    "    x = x\n",
    "\n",
    "    return x\n",
    "##\n",
    "y_predict = add_one_argmax_score(np.argmax(model.predict(x_val),axis=1))\n",
    "##\n",
    "def reverse_encode(y_df):\n",
    "\n",
    "    y_df['score'] = (y_df.iloc[:, 0:] == 1).idxmax(1)['score'] = (y_df.iloc[:, 0:] == 1).idxmax(1)\n",
    "    for i in range(0,len(y_df)):\n",
    "        if y_df.iloc[i,-1] == '0':\n",
    "            y_df.iloc[i,-1] = 1\n",
    "        elif y_df.iloc[i,-1] == '1':\n",
    "            y_df.iloc[i,-1] = 2\n",
    "        elif y_df.iloc[i,-1]== '2':\n",
    "            y_df.iloc[i,-1] = 3\n",
    "        elif y_df.iloc[i,-1]== '3':\n",
    "            y_df.iloc[i,-1] = 4\n",
    "##\n",
    "reverse_encode(y_val)\n",
    "y_val"
   ],
   "metadata": {
    "collapsed": false,
    "pycharm": {
     "name": "#%%\n"
    }
   }
  },
  {
   "cell_type": "code",
   "execution_count": 506,
   "outputs": [
    {
     "name": "stdout",
     "output_type": "stream",
     "text": [
      "<class 'pandas.core.frame.DataFrame'>\n",
      "RangeIndex: 1057 entries, 0 to 1056\n",
      "Data columns (total 1 columns):\n",
      " #   Column  Non-Null Count  Dtype\n",
      "---  ------  --------------  -----\n",
      " 0   0       1057 non-null   int64\n",
      "dtypes: int64(1)\n",
      "memory usage: 8.4 KB\n"
     ]
    }
   ],
   "source": [
    "y_predict = pd.DataFrame(y_predict)\n",
    "y_predict.info()"
   ],
   "metadata": {
    "collapsed": false,
    "pycharm": {
     "name": "#%%\n"
    }
   }
  },
  {
   "cell_type": "code",
   "execution_count": 507,
   "outputs": [
    {
     "data": {
      "text/plain": "<Figure size 648x648 with 1 Axes>",
      "image/png": "[encoded data removed]"
     },
     "metadata": {
      "needs_background": "light"
     },
     "output_type": "display_data"
    }
   ],
   "source": [
    "def conf_matrix(cm):\n",
    "\n",
    "    plt.figure(figsize=(9,9))\n",
    "    ax = sns.heatmap(cm,\n",
    "                     annot= True,\n",
    "                     fmt = '.4g',\n",
    "                     cbar=0,\n",
    "                     xticklabels=[0,1,2,3],\n",
    "                     yticklabels=[0,1,2,3],)\n",
    "    ax.set(xlabel='Predicted', ylabel='True')\n",
    "    plt.show()\n",
    "##\n",
    "test_cm = confusion_matrix(y_val['score'], y_predict)\n",
    "conf_matrix(test_cm)"
   ],
   "metadata": {
    "collapsed": false,
    "pycharm": {
     "name": "#%%\n"
    }
   }
  },
  {
   "cell_type": "code",
   "execution_count": 508,
   "outputs": [
    {
     "name": "stdout",
     "output_type": "stream",
     "text": [
      "              precision    recall  f1-score   support\n",
      "\n",
      "           0       0.92      0.78      0.84       624\n",
      "           1       0.63      0.78      0.70       330\n",
      "           2       0.69      0.68      0.68        97\n",
      "           3       0.21      0.83      0.33         6\n",
      "\n",
      "    accuracy                           0.77      1057\n",
      "   macro avg       0.61      0.77      0.64      1057\n",
      "weighted avg       0.80      0.77      0.78      1057\n",
      "\n"
     ]
    }
   ],
   "source": [
    "from sklearn.metrics import classification_report\n",
    "\n",
    "print(classification_report(y_predict, y_val['score']))"
   ],
   "metadata": {
    "collapsed": false,
    "pycharm": {
     "name": "#%%\n"
    }
   }
  },
  {
   "cell_type": "code",
   "execution_count": 508,
   "outputs": [],
   "source": [],
   "metadata": {
    "collapsed": false,
    "pycharm": {
     "name": "#%%\n"
    }
   }
  },
  {
   "cell_type": "code",
   "execution_count": 508,
   "outputs": [],
   "source": [],
   "metadata": {
    "collapsed": false,
    "pycharm": {
     "name": "#%%\n"
    }
   }
  }
 ],
 "metadata": {
  "kernelspec": {
   "display_name": "Python 3",
   "language": "python",
   "name": "python3"
  },
  "language_info": {
   "codemirror_mode": {
    "name": "ipython",
    "version": 2
   },
   "file_extension": ".py",
   "mimetype": "text/x-python",
   "name": "python",
   "nbconvert_exporter": "python",
   "pygments_lexer": "ipython2",
   "version": "2.7.6"
  }
 },
 "nbformat": 4,
 "nbformat_minor": 0
}